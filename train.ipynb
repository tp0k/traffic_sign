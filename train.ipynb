{
 "cells": [
  {
   "cell_type": "markdown",
   "metadata": {},
   "source": [
    "### Chọn phần runtime --> change runtime type --> GPU --> save\n",
    "### Chờ cho đầu chữ connect thành màu xanh lá"
   ]
  },
  {
   "cell_type": "markdown",
   "metadata": {},
   "source": [
    "### Chạy code khi cần kết nối với google drive (một lần mỗi lần mở)"
   ]
  },
  {
   "cell_type": "code",
   "execution_count": null,
   "metadata": {},
   "outputs": [],
   "source": [
    "from google.colab import drive\n",
    "drive.mount('/content/drive')"
   ]
  },
  {
   "cell_type": "markdown",
   "metadata": {},
   "source": [
    "### Nhấn để kết nối với drive như trong hình"
   ]
  },
  {
   "cell_type": "markdown",
   "metadata": {},
   "source": [
    "<a href=\"https://drive.google.com/uc?export=view&id=1QaUAXCchptBR9XxyU2sDDWjJgvfPhUrG\"><img src=\"https://drive.google.com/uc?export=view&id=1QaUAXCchptBR9XxyU2sDDWjJgvfPhUrG\" style=\"width: 650px; max-width: 100%; height: auto\" title=\"Click to enlarge picture\" />"
   ]
  },
  {
   "cell_type": "markdown",
   "metadata": {},
   "source": [
    "### Chạy code setup ở drive (chạy một lần duy nhất)"
   ]
  },
  {
   "cell_type": "code",
   "execution_count": null,
   "metadata": {},
   "outputs": [],
   "source": [
    "!mkdir /content/drive/MyDrive/data\n",
    "!mkdir /content/drive/MyDrive/data/yolo\n",
    "!mkdir /content/drive/MyDrive/data/yolo/backup\n",
    "!mkdir /content/drive/MyDrive/data/yolo/obj\n",
    "!pip install gdown\n",
    "import gdown\n",
    "url1 = 'https://drive.google.com/uc?id=1SbWsfFltuy5SYwyq3ABT1InE3CC9DBnC'\n",
    "url2 = 'https://drive.google.com/uc?id=1RuPzVY8xsVcSg-Yd_stC1exeVUGxYYeI'\n",
    "url3 = 'https://drive.google.com/uc?id=1gglycNcqYKLsoQWdwhU2bBZtPtNKhlS7'\n",
    "url4 = 'https://drive.google.com/uc?id=1O_Ay9XZ41ejDPEWpXrb1q4w5JuU1L_V8' \n",
    "url5 = 'https://drive.google.com/uc?id=1BMyEtSm1GdKoKGJ4Ln7P6KBh-VFbbI03'\n",
    "url6 = 'https://drive.google.com/uc?id=1G2oVkg0_SQjoHcsQUtbA2qi4vVBFXw5Q'\n",
    "url7 = 'https://drive.google.com/uc?id=1srqfTf6YsnsDontoFkuRnErFIP4xj62U'\n",
    "\n",
    "output1 = '/content/drive/MyDrive/data/obj.zip'\n",
    "output2 = '/content/drive/MyDrive/data/yolo/obj.data'\n",
    "output3 = '/content/drive/MyDrive/data/yolo/obj.names'\n",
    "output4 = '/content/drive/MyDrive/data/yolo/train.txt'\n",
    "output5 = '/content/drive/MyDrive/data/yolo/backup/yolov3-tiny-obj_last.weights'\n",
    "output6 = '/content/drive/MyDrive/data/yolo/yolov3-tiny-obj.cfg'\n",
    "output7 = '/content/drive/MyDrive/data/yolo/yolov3-tiny.conv.15'\n",
    "\n",
    "gdown.download(url1, output1)\n",
    "gdown.download(url2, output2)\n",
    "gdown.download(url3, output3)\n",
    "gdown.download(url4, output4)\n",
    "gdown.download(url5, output5)\n",
    "gdown.download(url6, output6)\n",
    "gdown.download(url7, output7)\n",
    "!unzip /content/drive/MyDrive/data/obj.zip -d /content/drive/MyDrive/data/yolo/obj/"
   ]
  },
  {
   "cell_type": "markdown",
   "metadata": {},
   "source": [
    "### Chạy code setup môi trường (chạy mỗi section)"
   ]
  },
  {
   "cell_type": "code",
   "execution_count": null,
   "metadata": {},
   "outputs": [],
   "source": [
    "!ln -s /content/gdrive/My\\ Drive/ /mydrive\n",
    "!ls /mydrive\n",
    "\n",
    "# clone darknet repo\n",
    "!git clone https://github.com/AlexeyAB/darknet\n",
    "\n",
    "# change makefile to have GPU and OPENCV enabled\n",
    "%cd darknet\n",
    "!sed -i 's/OPENCV=0/OPENCV=1/' Makefile\n",
    "!sed -i 's/GPU=0/GPU=1/' Makefile\n",
    "!sed -i 's/CUDNN=0/CUDNN=1/' Makefile\n",
    "\n",
    "# verify CUDA\n",
    "!/usr/local/cuda/bin/nvcc --version\n",
    "\n",
    "\n",
    "!make\n",
    "\n",
    "!wget https://pjreddie.com/media/files/yolov3-tiny.weights\n",
    "\n",
    "!./darknet partial cfg/yolov3-tiny.cfg yolov3-tiny.weights yolov3-tiny.conv.15 15\n",
    "\n",
    "def imShow(path):\n",
    "  import cv2\n",
    "  import matplotlib.pyplot as plt\n",
    "  %matplotlib inline\n",
    "\n",
    "  image = cv2.imread(path)\n",
    "  height, width = image.shape[:2]\n",
    "  resized_image = cv2.resize(image,(3*width, 3*height), interpolation = cv2.INTER_CUBIC)\n",
    "\n",
    "  fig = plt.gcf()\n",
    "  fig.set_size_inches(18, 10)\n",
    "  plt.axis(\"off\")\n",
    "  plt.imshow(cv2.cvtColor(resized_image, cv2.COLOR_BGR2RGB))\n",
    "  plt.show()\n",
    "\n",
    "# use this to upload files\n",
    "def upload():\n",
    "  from google.colab import files\n",
    "  uploaded = files.upload() \n",
    "  for name, data in uploaded.items():\n",
    "    with open(name, 'wb') as f:\n",
    "      f.write(data)\n",
    "      print ('saved file', name)\n",
    "\n",
    "# use this to download a file  \n",
    "def download(path):\n",
    "  from google.colab import files\n",
    "  files.download(path)\n",
    "\n",
    "\n",
    "!./darknet detect cfg/yolov3-tiny.cfg yolov3-tiny.weights data/dog.jpg\n",
    "imShow('predictions.jpg')\n",
    "\n",
    "!cp /content/drive/MyDrive/data/yolo/obj.names ./data/\n",
    "!cp /content/drive/MyDrive/data/yolo/obj.data  ./data/\n",
    "!cp /content/drive/MyDrive/data/yolo/train.txt  ./data/\n",
    "!cp /content/drive/MyDrive/data/yolo/yolov3-tiny-obj.cfg ../darknet/\n"
   ]
  },
  {
   "cell_type": "markdown",
   "metadata": {},
   "source": [
    "### Chạy code train"
   ]
  },
  {
   "cell_type": "code",
   "execution_count": null,
   "metadata": {},
   "outputs": [],
   "source": [
    "!./darknet detector train data/obj.data yolov3-tiny-obj.cfg /content/drive/MyDrive/data/yolo/backup/yolov3-tiny-obj_last.weights -dont_show -clear"
   ]
  },
  {
   "cell_type": "markdown",
   "metadata": {},
   "source": [
    "### Nếu muốn lấy weight mới nhất thì vô drive --> data --> yolo --> backup\n",
    "### tải file yolov3-tiny-obj_last.weights rồi gắn vô code"
   ]
  }
 ],
 "metadata": {
  "kernelspec": {
   "display_name": "Python 3.7.9 ('project_env': venv)",
   "language": "python",
   "name": "python3"
  },
  "language_info": {
   "name": "python",
   "version": "3.7.9"
  },
  "orig_nbformat": 4,
  "vscode": {
   "interpreter": {
    "hash": "2be6dd08ffe244736ebf8d0226ac72450dff6394c6774804270fac26f0a5712e"
   }
  }
 },
 "nbformat": 4,
 "nbformat_minor": 2
}
